{
 "cells": [
  {
   "cell_type": "markdown",
   "metadata": {
    "collapsed": true
   },
   "source": [
    "# Analysis\n",
    "1 - cloudiness does not appear to be impacted by location as it seems sporadic\n",
    "2 - since its still early spring in the northern hemisphere, temps are higher below and near the equator\n",
    "3 - windspeed is more prominent in the northern hemisphere  however it cant be determined if thats typical or if its just a matter of the current season"
   ]
  },
  {
   "cell_type": "code",
   "execution_count": null,
   "metadata": {
    "collapsed": true
   },
   "outputs": [],
   "source": [
    "import random\n",
    "import requests\n",
    "import pandas as pd\n",
    "import numpy as np\n",
    "from mapconfig import api_key\n",
    "from citipy import citipy\n",
    "import matplotlib.pyplot as plt\n",
    "import datetime as dt"
   ]
  },
  {
   "cell_type": "markdown",
   "metadata": {},
   "source": [
    "# Generate Cities"
   ]
  },
  {
   "cell_type": "markdown",
   "metadata": {
    "collapsed": true
   },
   "source": [
    "\n",
    "lat =[]\n",
    "long =[]\n",
    "\n",
    "for i in range(3000):\n",
    "    lat.append(np.random.uniform(-180, 180))\n",
    "    long.append(np.random.uniform(-90,90))\n"
   ]
  },
  {
   "cell_type": "markdown",
   "metadata": {},
   "source": [
    "weather_dicts = {'lat': lat,'long': long}\n",
    "weather_data = pd.DataFrame(weather_dicts)\n",
    "weather_data.head()\n",
    "\n",
    "weather_data['closest_city'] = \"\"\n",
    "weather_data['country'] = \"\"\n",
    "weather_data.head()"
   ]
  },
  {
   "cell_type": "markdown",
   "metadata": {
    "collapsed": true
   },
   "source": [
    "\n",
    "for index, row in weather_data.iterrows():\n",
    "    lat = row['lat']\n",
    "    long = row['long']\n",
    "    weather_data.set_value(index, 'closest_city', citipy.nearest_city(lat, long).city_name)\n",
    "    weather_data.set_value(index, 'country', citipy.nearest_city(lat, long).country_code)\n",
    "    \n",
    "weather_data.head()\n",
    "updated_df = weather_data.drop_duplicates(['closest_city'])"
   ]
  },
  {
   "cell_type": "markdown",
   "metadata": {},
   "source": [
    "sample = updated_df.sample(500)\n",
    "sample_city = sample[\"closest_city\"]"
   ]
  },
  {
   "cell_type": "markdown",
   "metadata": {},
   "source": [
    "# API Calls"
   ]
  },
  {
   "cell_type": "markdown",
   "metadata": {},
   "source": [
    "url = \"http://api.openweathermap.org/data/2.5/weather?\"\n",
    "\n",
    "params = {'appid': api_key,\n",
    "          'q': '',\n",
    "          'units': 'imperial'}\n",
    "\n",
    "weather_data = []\n",
    "cities = []\n",
    "\n",
    "counter = 1\n",
    "for city in sample_city:\n",
    "    # Get weather data\n",
    "    try:\n",
    "        city1 = city.replace(\" \", \"%20\")\n",
    "        params['q'] = city1\n",
    "        url_used = url + '?appid=' + api_key + '&units=' + 'imperial' '&q=' + city1\n",
    "        response = requests.get(url, params=params).json()\n",
    "        weather_data.append(response)\n",
    "        print(\"Processing weather info for city \" + str(counter) + \": \" + city + '\\n' + url_used)\n",
    "        counter += 1\n",
    "    except KeyError:\n",
    "        \"Not available\"\n",
    "    except AttributeError:\n",
    "        \"Ignore\"\n",
    "        \n",
    "print(\"-----------------------------\")\n",
    "print(\"Counter completed\")\n",
    "print(\"-----------------------------\")"
   ]
  },
  {
   "cell_type": "markdown",
   "metadata": {},
   "source": [
    "lat_data = []\n",
    "long_data = []\n",
    "cloud = []\n",
    "max_temp = []\n",
    "humid = []\n",
    "wind = []\n",
    "\n",
    "for data in weather_data:\n",
    "    try:\n",
    "        lat_data.append(data['coord']['lat'])\n",
    "        long_data.append(data['coord']['lon'])\n",
    "        cloud.append(data['clouds']['all'])\n",
    "        max_temp.append(data['main']['temp_max'])\n",
    "        humid.append(data['main']['humidity'])\n",
    "        wind.append(data['wind']['speed'])\n",
    "        cities.append(data['name'])\n",
    "\n",
    "    except KeyError:\n",
    "        \"Not available\"\n",
    "        \n",
    "        \n",
    "weather_dict = {'City': cities, 'Lat': lat_data, 'Long': long_data, \n",
    "                'Cloudiness': cloud, 'Max Temp': max_temp, 'Humidity': humid,\n",
    "                'Wind Speed': wind}\n",
    "weather_data_df = pd.DataFrame(weather_dict)\n",
    "print(weather_data_df.head())\n",
    "len(weather_data_df)"
   ]
  },
  {
   "cell_type": "markdown",
   "metadata": {},
   "source": [
    "weather_data_df.count(axis = 0)"
   ]
  },
  {
   "cell_type": "markdown",
   "metadata": {
    "collapsed": true
   },
   "source": [
    "weather_data_df.to_csv(\"WeatherPy.csv\")"
   ]
  },
  {
   "cell_type": "markdown",
   "metadata": {},
   "source": [
    "# Lat vs Max Temp"
   ]
  },
  {
   "cell_type": "markdown",
   "metadata": {},
   "source": [
    "\n",
    "date = dt.date.today\n",
    "date = dt.datetime.today().strftime(\"%m/%d/%Y\")\n",
    "\n",
    "plt.figure(figsize=(10,5))\n",
    "plt.scatter(weather_data_df['Lat'], weather_data_df['Max Temp'], edgecolor = \"black\", marker='o')\n",
    "plt.title(date +': City Latitude vs. Max Temp')\n",
    "plt.ylabel('Temperature (F)')\n",
    "plt.xlabel('Latitude')\n",
    "plt.grid(True)\n",
    "plt.xlim(-100, 120)\n",
    "plt.ylim(0, 100)\n",
    "\n",
    "plt.savefig('maxtemp.png')\n",
    "\n",
    "plt.style.use(\"seaborn\")\n",
    "plt.show()"
   ]
  },
  {
   "cell_type": "markdown",
   "metadata": {},
   "source": [
    "# Lat vs Humidity"
   ]
  },
  {
   "cell_type": "markdown",
   "metadata": {},
   "source": [
    "date = dt.date.today\n",
    "date = dt.datetime.today().strftime(\"%m/%d/%Y\")\n",
    "\n",
    "plt.figure(figsize=(10,5))\n",
    "plt.scatter(weather_data_df['Lat'], weather_data_df['Humidity'], edgecolor = \"black\", marker='o')\n",
    "\n",
    "plt.title(date +': City Latitude vs. Humidity')\n",
    "plt.ylabel('Humiditiy (%)')\n",
    "plt.xlabel('Latitude')\n",
    "plt.grid(True)\n",
    "plt.xlim(-100, 120)\n",
    "plt.ylim(0, 120)\n",
    "\n",
    "plt.savefig('humidity.png')\n",
    "\n",
    "plt.style.use(\"seaborn\")\n",
    "plt.show()"
   ]
  },
  {
   "cell_type": "markdown",
   "metadata": {},
   "source": [
    "# Lat vs cloudiness"
   ]
  },
  {
   "cell_type": "markdown",
   "metadata": {},
   "source": [
    "date = dt.date.today\n",
    "date = dt.datetime.today().strftime(\"%m/%d/%Y\")\n",
    "\n",
    "plt.figure(figsize=(10,5))\n",
    "plt.scatter(weather_data_df['Lat'], weather_data_df['Cloudiness'], edgecolor = \"black\", marker='o')\n",
    "\n",
    "plt.title(date +': City Latitude vs. Cloudiness')\n",
    "plt.ylabel('Cloudiness (%)')\n",
    "plt.xlabel('Latitude')\n",
    "plt.grid(True)\n",
    "plt.xlim(-100, 100)\n",
    "plt.ylim(-20, 120)\n",
    "\n",
    "plt.savefig('cloudiness.png')\n",
    "\n",
    "plt.style.use(\"seaborn\")\n",
    "plt.show()"
   ]
  },
  {
   "cell_type": "markdown",
   "metadata": {},
   "source": [
    "# Lat vs winds\n"
   ]
  },
  {
   "cell_type": "markdown",
   "metadata": {},
   "source": [
    "date = dt.date.today\n",
    "date = dt.datetime.today().strftime(\"%m/%d/%Y\")\n",
    "\n",
    "plt.figure(figsize=(10,5))\n",
    "plt.scatter(weather_data_df['Lat'], weather_data_df['Wind Speed'], edgecolor = \"black\", marker='o')\n",
    "\n",
    "plt.title(date +': City Latitude vs. Wind Speed')\n",
    "plt.ylabel('Wind Speed (mph)')\n",
    "plt.xlabel('Latitude')\n",
    "plt.grid(True)\n",
    "plt.xlim(-100, 100)\n",
    "plt.ylim(-5, 40)\n",
    "\n",
    "plt.savefig('winds.png')\n",
    "\n",
    "plt.style.use(\"seaborn\")\n",
    "plt.show()"
   ]
  }
 ],
 "metadata": {
  "kernelspec": {
   "display_name": "Python 3",
   "language": "python",
   "name": "python3"
  },
  "language_info": {
   "codemirror_mode": {
    "name": "ipython",
    "version": 3
   },
   "file_extension": ".py",
   "mimetype": "text/x-python",
   "name": "python",
   "nbconvert_exporter": "python",
   "pygments_lexer": "ipython3",
   "version": "3.6.3"
  }
 },
 "nbformat": 4,
 "nbformat_minor": 2
}
